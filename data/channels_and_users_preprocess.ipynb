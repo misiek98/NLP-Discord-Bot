{
  "cells": [
    {
      "cell_type": "code",
      "execution_count": 2,
      "metadata": {
        "id": "RMz-qCUSjjuX"
      },
      "outputs": [],
      "source": [
        "import pandas as pd"
      ]
    },
    {
      "cell_type": "code",
      "execution_count": 3,
      "metadata": {
        "id": "PRmegps8j6OE"
      },
      "outputs": [],
      "source": [
        "channels = []\n",
        "\n",
        "with open('/content/ch.txt', 'r', encoding='utf8') as file:\n",
        "  for line in file:\n",
        "    channels.append(line.strip())"
      ]
    },
    {
      "cell_type": "code",
      "execution_count": 5,
      "metadata": {
        "id": "2x8N_xESkG21"
      },
      "outputs": [],
      "source": [
        "channels = [channel.split(';') for channel in channels]"
      ]
    },
    {
      "cell_type": "code",
      "execution_count": null,
      "metadata": {
        "colab": {
          "base_uri": "https://localhost:8080/",
          "height": 865
        },
        "id": "_zPm7o3tkOhI",
        "outputId": "9c2d706b-f7a7-4ae2-fa85-0d3572c8e104"
      },
      "outputs": [],
      "source": [
        "df_channels = pd.DataFrame(data=channels, columns=['channel_name', 'channel_id', 'send_message'])\n",
        "df_channels"
      ]
    },
    {
      "cell_type": "code",
      "execution_count": 30,
      "metadata": {
        "id": "06zGb8j6oUk4"
      },
      "outputs": [],
      "source": [
        "df_channels = df_channels.to_csv('server_channels.csv', ';')"
      ]
    },
    {
      "cell_type": "code",
      "execution_count": null,
      "metadata": {
        "colab": {
          "base_uri": "https://localhost:8080/",
          "height": 1000
        },
        "id": "S9Agq-zekoy7",
        "outputId": "a29e19e9-a1ff-4398-a766-f5b28b410ca9"
      },
      "outputs": [],
      "source": [
        "tmembers = []\n",
        "\n",
        "with open('/content/tm.txt', 'r', encoding='utf8') as file:\n",
        "  for line in file:\n",
        "    tmembers.append(line.strip())\n",
        "\n",
        "tmembers = [tmember.split(';') for tmember in tmembers]\n",
        "\n",
        "df_tmembers = pd.DataFrame(data=tmembers, columns=['username', 'discriminator', 'userId', 'user_rank'])\n",
        "df_tmembers"
      ]
    },
    {
      "cell_type": "code",
      "execution_count": 14,
      "metadata": {
        "colab": {
          "base_uri": "https://localhost:8080/"
        },
        "id": "ApdIzAxGmjip",
        "outputId": "7d0372c1-7d44-44f3-dca8-16b306c27f0d"
      },
      "outputs": [
        {
          "name": "stdout",
          "output_type": "stream",
          "text": [
            "<class 'pandas.core.frame.DataFrame'>\n",
            "RangeIndex: 50 entries, 0 to 49\n",
            "Data columns (total 4 columns):\n",
            " #   Column         Non-Null Count  Dtype \n",
            "---  ------         --------------  ----- \n",
            " 0   username       50 non-null     object\n",
            " 1   discriminator  50 non-null     object\n",
            " 2   userId         50 non-null     object\n",
            " 3   user_rank      50 non-null     object\n",
            "dtypes: object(4)\n",
            "memory usage: 1.7+ KB\n"
          ]
        }
      ],
      "source": [
        "df_tmembers.info()"
      ]
    },
    {
      "cell_type": "code",
      "execution_count": 22,
      "metadata": {
        "id": "U92iaGQxm5IE"
      },
      "outputs": [],
      "source": [
        "df_tmembers['userId'] = df_tmembers['userId'].apply(lambda id: int(id))"
      ]
    },
    {
      "cell_type": "code",
      "execution_count": 23,
      "metadata": {
        "colab": {
          "base_uri": "https://localhost:8080/"
        },
        "id": "P0nlbqXDm8x1",
        "outputId": "0296b07c-fcbe-437d-ecc5-61da9d540ae7"
      },
      "outputs": [
        {
          "name": "stdout",
          "output_type": "stream",
          "text": [
            "<class 'pandas.core.frame.DataFrame'>\n",
            "RangeIndex: 50 entries, 0 to 49\n",
            "Data columns (total 4 columns):\n",
            " #   Column         Non-Null Count  Dtype \n",
            "---  ------         --------------  ----- \n",
            " 0   username       50 non-null     object\n",
            " 1   discriminator  50 non-null     object\n",
            " 2   userId         50 non-null     int64 \n",
            " 3   user_rank      50 non-null     object\n",
            "dtypes: int64(1), object(3)\n",
            "memory usage: 1.7+ KB\n"
          ]
        }
      ],
      "source": [
        "df_tmembers.info()"
      ]
    },
    {
      "cell_type": "code",
      "execution_count": 26,
      "metadata": {
        "id": "2cYIvQ33m8vb"
      },
      "outputs": [],
      "source": [
        "# df_tmembers = df_tmembers.drop('discriminator', axis=1)\n",
        "df_tmembers.to_csv('team_members.csv', sep=';')"
      ]
    }
  ],
  "metadata": {
    "colab": {
      "name": "Untitled257.ipynb",
      "provenance": []
    },
    "kernelspec": {
      "display_name": "Python 3",
      "name": "python3"
    },
    "language_info": {
      "name": "python"
    }
  },
  "nbformat": 4,
  "nbformat_minor": 0
}
